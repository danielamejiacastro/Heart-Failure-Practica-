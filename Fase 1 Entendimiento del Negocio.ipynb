{
  "cells": [
    {
      "cell_type": "markdown",
      "metadata": {
        "colab_type": "text",
        "id": "view-in-github"
      },
      "source": [
        "<a href=\"https://colab.research.google.com/github/danielamejiacastro/Heart-Failure-Practica-/blob/main/Copy_of_M1U2_fase_1_Entendimiento_del_negocio.ipynb\" target=\"_parent\"><img src=\"https://colab.research.google.com/assets/colab-badge.svg\" alt=\"Open In Colab\"/></a>"
      ]
    },
    {
      "cell_type": "markdown",
      "metadata": {
        "id": "2qrgS_sCJquS"
      },
      "source": [
        "<img src = \"https://drive.google.com/uc?export=view&id=1ljiY7gV0TKs3nnTMPA5UBdED8KGzzZnX\" alt = \"Encabezado MLDS\" width = \"100%\">  </img>"
      ]
    },
    {
      "cell_type": "markdown",
      "metadata": {
        "id": "--22KSZzLR-o"
      },
      "source": [
        "# **Entendimiento del negocio**\n",
        "---\n",
        "Este notebook es una plantilla que le puede servir como guía para el primer entregable del proyecto aplicado."
      ]
    },
    {
      "cell_type": "markdown",
      "metadata": {
        "id": "fdb4c33d"
      },
      "source": [
        "## **0. Integrantes del equipo de trabajo**\n",
        "---\n",
        "\n",
        "Por favor incluya los nombres completos y número de identificación de los integrantes del equipo de trabajo:"
      ]
    },
    {
      "cell_type": "markdown",
      "metadata": {
        "id": "ckNDI7ftUrpa"
      },
      "source": [
        "1. Daniela Mejia Castro\n",
        "2. ---**INGRESE SU RESPUESTA**---\n",
        "3. ---**INGRESE SU RESPUESTA**---"
      ]
    },
    {
      "cell_type": "markdown",
      "metadata": {
        "id": "w2fwJpnBUkMV"
      },
      "source": [
        "## **1. Marco de Proyecto**\n",
        "---\n",
        "\n",
        "Normalmente, se suele construir un marco de proyecto para mostrar los resultados del entendimiento del negocio, es decir, debemos dar respuesta a los siguientes elementos:"
      ]
    },
    {
      "cell_type": "markdown",
      "metadata": {
        "id": "7a974ec1"
      },
      "source": [
        "### **1.1. Trasfondo del Negocio**\n",
        "---\n",
        "- ¿Quienes son los beneficiarios del proyecto? ¿En qué dominio se encuentran (marketing, medicina, entre otros)?\n",
        "- ¿Cuáles son los principales desafíos o problemas de la situación que motivan la necesidad de realizar un proyecto de análisis de datos?"
      ]
    },
    {
      "cell_type": "markdown",
      "metadata": {
        "id": "18d9305a"
      },
      "source": [
        "---**INGRESE SU RESPUESTA**---"
      ]
    },
    {
      "cell_type": "markdown",
      "metadata": {
        "id": "d09c63e5"
      },
      "source": [
        "### **1.2. Alcance**\n",
        "---\n",
        "\n",
        "- ¿Qué  solución se desea implementar?\n",
        "- ¿Cuáles son los límites y fronteras del proyecto de análisis de datos? ¿Qué aspectos específicos del negocio se incluirán y cuáles se excluyen en el alcance del proyecto?\n",
        "- ¿De qué forma el cliente o beneficiario utilizará el producto del proyecto?"
      ]
    },
    {
      "cell_type": "markdown",
      "metadata": {
        "id": "12e3be6b"
      },
      "source": [
        "---**INGRESE SU RESPUESTA**---"
      ]
    },
    {
      "cell_type": "markdown",
      "metadata": {
        "id": "370e4a5d"
      },
      "source": [
        "### **1.3. Plan**\n",
        "---\n",
        "\n",
        "Puede agregar una lista de actividades con tiempos estimados, un diagrama de Gantt o integrar alguna herramienta de gestión de proyectos para mostrar la planeación del proyecto como [*Jira*](https://www.atlassian.com/software/jira?&aceid=&adposition=&adgroup=144583570757&campaign=19313283508&creative=641924587890&device=c&keyword=jira%20software%20online&matchtype=p&network=g&placement=&ds_kids=p74602877891&ds_e=GOOGLE&ds_eid=700000001558501&ds_e1=GOOGLE&gad_source=1&gclid=CjwKCAiAqNSsBhAvEiwAn_tmxStBdySS6RxbLNGXE0tWTeJc32ffjQD_1EXZvH6hmQkYZm5bTa3sgBoCX3oQAvD_BwE&gclsrc=aw.ds) o [*Trello*](https://trello.com/?&aceid=&adposition=&adgroup=144675712219&campaign=19250238609&creative=641300630637&device=c&keyword=trello&matchtype=e&network=g&placement=&ds_kids=p74526213668&ds_e=GOOGLE&ds_eid=700000001557344&ds_e1=GOOGLE&gad_source=1&gclid=CjwKCAiAqNSsBhAvEiwAn_tmxWW7Gdzf0Szf-mA-piM2GPM7tk8R0HsgpBALLGHNFq1-2xXMQbxB1RoCs-sQAvD_BwE&gclsrc=aw.ds)."
      ]
    },
    {
      "cell_type": "markdown",
      "metadata": {
        "id": "3b465355"
      },
      "source": [
        "---**INGRESE SU RESPUESTA**---"
      ]
    },
    {
      "cell_type": "code",
      "execution_count": 5,
      "metadata": {},
      "outputs": [
        {
          "ename": "SyntaxError",
          "evalue": "(unicode error) 'unicodeescape' codec can't decode bytes in position 2-3: truncated \\UXXXXXXXX escape (3090345366.py, line 12)",
          "output_type": "error",
          "traceback": [
            "\u001b[1;36m  Cell \u001b[1;32mIn[5], line 12\u001b[1;36m\u001b[0m\n\u001b[1;33m    df_Gantt = pd.ExcelFile('C:\\Users\\Daniela\\Downloads\\Gantt Heart Failure.xlsx').parse(sheet_name='Sheet1', header = 0, names=None, index_col= 'A', encoding = 'latin-1')\u001b[0m\n\u001b[1;37m                            ^\u001b[0m\n\u001b[1;31mSyntaxError\u001b[0m\u001b[1;31m:\u001b[0m (unicode error) 'unicodeescape' codec can't decode bytes in position 2-3: truncated \\UXXXXXXXX escape\n"
          ]
        }
      ],
      "source": [
        "from pathlib import Path\n",
        "import pandas as pd \n",
        "import plotly\n",
        "import plotly.express as px\n",
        "import plotly.figure_factory as ff \n",
        "import openpyxl\n",
        "from tabulate import tabulate\n",
        "\n",
        "Gantt = openpyxl.load_workbook(r'C:\\Users\\Daniela\\Downloads\\Gantt Heart Failure.xlsx')\n",
        "print (Gantt.sheetnames)\n",
        "\n",
        "df_Gantt = pd.ExcelFile('C:\\Users\\Daniela\\Downloads\\Gantt Heart Failure.xlsx').parse(sheet_name='Sheet1', header = 0, names=None, index_col= 'A', encoding = 'latin-1')\n",
        "\n",
        "df_Gantt.head()\n",
        "\n",
        "\n",
        "\n",
        "\n",
        "\n",
        "\n"
      ]
    },
    {
      "cell_type": "markdown",
      "metadata": {
        "id": "4a4e145b"
      },
      "source": [
        "## **2. Datos**\n",
        "---\n",
        "\n",
        "En esta sección debe adjuntar una descripción de los datos que planea trabajar. Por el momento no es obligatorio cargar los datos."
      ]
    },
    {
      "cell_type": "markdown",
      "metadata": {
        "id": "2c5f8274"
      },
      "source": [
        "### **2.1. Origen**\n",
        "---\n",
        "\n",
        "- ¿De dónde vienen los datos?\n",
        "- ¿Se usa alguna herramienta o proceso para la descarga de la información?\n",
        "- ¿Qué tipo de datos está manejando?"
      ]
    },
    {
      "cell_type": "markdown",
      "metadata": {
        "id": "7261ad96"
      },
      "source": [
        "---**INGRESE SU RESPUESTA**---"
      ]
    },
    {
      "cell_type": "markdown",
      "metadata": {
        "id": "ceibuW1dNH9a"
      },
      "source": [
        "## **Créditos**\n",
        "* **Profesor:** [Felipe Restrepo Calle](https://dis.unal.edu.co/~ferestrepoca/)\n",
        "* **Asistentes docentes:**\n",
        "    - [Juan Sebastián Lara Ramírez](https://www.linkedin.com/in/juan-sebastian-lara-ramirez-43570a214/).\n",
        "* **Diseño de imágenes:**\n",
        "    - [Rosa Alejandra Superlano Esquibel](mailto:rsuperlano@unal.edu.co).\n",
        "* **Coordinador de virtualización:**\n",
        "    - [Edder Hernández Forero](https://www.linkedin.com/in/edder-hernandez-forero-28aa8b207/).\n",
        "    \n",
        "**Universidad Nacional de Colombia** - *Facultad de Ingeniería*"
      ]
    }
  ],
  "metadata": {
    "colab": {
      "include_colab_link": true,
      "provenance": []
    },
    "kernelspec": {
      "display_name": "Python 3",
      "name": "python3"
    },
    "language_info": {
      "codemirror_mode": {
        "name": "ipython",
        "version": 3
      },
      "file_extension": ".py",
      "mimetype": "text/x-python",
      "name": "python",
      "nbconvert_exporter": "python",
      "pygments_lexer": "ipython3",
      "version": "3.12.2"
    }
  },
  "nbformat": 4,
  "nbformat_minor": 0
}
